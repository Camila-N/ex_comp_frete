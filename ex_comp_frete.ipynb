{
 "cells": [
  {
   "cell_type": "markdown",
   "id": "9ac567e5-6bc9-4236-a1c6-4d39e13ce70c",
   "metadata": {},
   "source": [
    "# COMPARAÇÃO DE FRETE ENTRE TRANSPORTADORAS"
   ]
  },
  {
   "cell_type": "markdown",
   "id": "d2ce3704-59ad-4374-9982-7b3d4a7702c4",
   "metadata": {},
   "source": [
    "##### IMPORTAR AS BLIBLIOTECAS:"
   ]
  },
  {
   "cell_type": "code",
   "execution_count": 1,
   "id": "17058676-496c-458a-8a9c-4cf04dedd8f8",
   "metadata": {},
   "outputs": [],
   "source": [
    "import pandas as pd\n",
    "import numpy as np\n",
    "import matplotlib.pyplot as plt"
   ]
  },
  {
   "cell_type": "markdown",
   "id": "c7de6099-5cd7-4eef-86d1-04d21107047f",
   "metadata": {},
   "source": [
    "##### CRIAR DATAFRAMES:"
   ]
  },
  {
   "cell_type": "code",
   "execution_count": 2,
   "id": "b7e50da5-c893-402d-aa77-1d7abf2a1c8b",
   "metadata": {},
   "outputs": [],
   "source": [
    "df1 = pd.read_excel('dados.xls')\n",
    "df_tr = pd.read_excel('tr.xls')"
   ]
  },
  {
   "cell_type": "markdown",
   "id": "9e7e179b-6e93-4e13-a299-bc31a68eb42b",
   "metadata": {},
   "source": [
    "# \n",
    "## DATA FUSION:"
   ]
  },
  {
   "cell_type": "markdown",
   "id": "9837d592-0acb-423c-b325-a17d208b1e26",
   "metadata": {},
   "source": [
    "##### JUNTAR OS DATAFRAMES PELA COLUNA EM COMUM (NF):"
   ]
  },
  {
   "cell_type": "code",
   "execution_count": 3,
   "id": "b49869b6-6320-482d-9a72-c446c386ac7b",
   "metadata": {},
   "outputs": [],
   "source": [
    "df = pd.merge(df1,df_tr, on='nf')"
   ]
  },
  {
   "cell_type": "markdown",
   "id": "1eb7283f-473e-43fc-bffe-49651c44c298",
   "metadata": {},
   "source": [
    "##### VERIFICAR SE EXISTE ALGUMA COLUNA COM INFORMAÇÃO NULA APÓS O MERGE:"
   ]
  },
  {
   "cell_type": "code",
   "execution_count": 4,
   "id": "d21801ee-0d78-423f-9518-b272c3f521df",
   "metadata": {},
   "outputs": [
    {
     "data": {
      "text/plain": [
       "nf           True\n",
       "cidade       True\n",
       "uf           True\n",
       "valor        True\n",
       "frete        True\n",
       "motorista    True\n",
       "dtype: bool"
      ]
     },
     "execution_count": 4,
     "metadata": {},
     "output_type": "execute_result"
    }
   ],
   "source": [
    "#O ~ é um sinal de negação - \"Não é nulo\" - o all verifica se todos os resultados são True - Se True - Nenhuma celula tem valor nulo. \n",
    "~df.isnull().all()"
   ]
  },
  {
   "cell_type": "markdown",
   "id": "cb92abb6-c4f2-493f-8652-21cfcd757e23",
   "metadata": {},
   "source": [
    "#\n",
    "## FEATURE ENGINEERING:"
   ]
  },
  {
   "cell_type": "markdown",
   "id": "b6779fae-1f2e-42ac-8266-2fda93838f60",
   "metadata": {},
   "source": [
    "##### CRIAR COLUNA COM VALOR DE PERCENTUAL DE FRETE POR VALOR DE NF:"
   ]
  },
  {
   "cell_type": "code",
   "execution_count": 5,
   "id": "9527ccfb-ed55-498b-88d7-0eef2fa87959",
   "metadata": {},
   "outputs": [],
   "source": [
    "df['p_frete'] = ((df.frete / df.valor)*100).round(1)"
   ]
  },
  {
   "cell_type": "markdown",
   "id": "3920dba8-a014-4896-88e2-175545c8d775",
   "metadata": {},
   "source": [
    "##### CRIAR COLUNA REGIÃO (INTERIOR / CAPITAL / REGIÃO METROPOLITANA):"
   ]
  },
  {
   "cell_type": "code",
   "execution_count": 6,
   "id": "9408db57-e7e2-437c-aeff-e087a3ae0962",
   "metadata": {},
   "outputs": [],
   "source": [
    "#Lista de cidades d região metropolitana do RIO:\n",
    "rm_rio_de_janeiro = ['BELFORD ROXO','DUQUE DE CAXIAS','GUAPIMIRIM','ITABORAÍ','ITAGUAÍ','JAPERI','MAGÉ','MARICA',\n",
    "    'MESQUITA','NILOPOLIS','NITEROI','NOVA IGUACU','PARACAMBI','PETROPOLIS','QUEIMADOS','RIO BONITO','SAO GONCALO',\n",
    "    'SAO JOAO DE MERITI','SEROPEDICA','TANGUA']\n",
    "\n",
    "# Defina a função que retorna os valores para a nova coluna\n",
    "def classificar_cidade(cidade):\n",
    "    if cidade == 'RIO DE JANEIRO':\n",
    "        return 'C'\n",
    "    elif cidade in rm_rio_de_janeiro:\n",
    "        return 'RM'\n",
    "    else:\n",
    "        return 'I'\n",
    "\n",
    "# Aplique a função à coluna 'cidade' usando a função apply\n",
    "df['regiao'] = df['cidade'].apply(classificar_cidade)"
   ]
  },
  {
   "cell_type": "markdown",
   "id": "2176db66-9817-405e-a7d1-904d0b351a3c",
   "metadata": {},
   "source": [
    "##### CRIAR COLUNA FAIXA DE VALOR:\n",
    "###### 1-0_200 / 2-200_500 / 3-500_1000 / 4-1000_:"
   ]
  },
  {
   "cell_type": "code",
   "execution_count": 7,
   "id": "80d71251-25bf-4f6c-a0c2-9e55fbef8361",
   "metadata": {},
   "outputs": [],
   "source": [
    "# Defina a função que retorna os valores para a nova coluna\n",
    "def classificar_valor(valor):\n",
    "    if 0 < valor <200:\n",
    "        return 1\n",
    "    elif 200 < valor < 500:\n",
    "        return 2\n",
    "    elif 500 < valor < 1000:\n",
    "        return 3\n",
    "    else:\n",
    "        return 4\n",
    "\n",
    "# Aplique a função à coluna 'cidade' usando a função apply\n",
    "df['faixa'] = df['valor'].apply(classificar_valor)"
   ]
  },
  {
   "cell_type": "markdown",
   "id": "34aad70b-57a6-434c-9ab3-f725cccf7217",
   "metadata": {},
   "source": [
    "#\n",
    "## OUTLIERS:\n",
    "###### Nesse caso, existem fretes muito fora da média, porém depende de fatores como local de entrega e valor de NF, por isso deixamos na análise."
   ]
  },
  {
   "cell_type": "markdown",
   "id": "889ad772-cb3e-4b13-8b11-35c5fa2395f2",
   "metadata": {},
   "source": [
    "##### ANALISE DO VALOR DE FRETE BRUTO:"
   ]
  },
  {
   "cell_type": "code",
   "execution_count": 9,
   "id": "5a39dec6-9e6d-44e8-a999-bbcabe5723e3",
   "metadata": {},
   "outputs": [
    {
     "name": "stdout",
     "output_type": "stream",
     "text": [
      "Média Valor de Frete: R$ 77.6\n"
     ]
    }
   ],
   "source": [
    "#bloxplot:  # limites - dados que parecem fazer parte da massa de dados / # outliers - dados estranhos\n",
    "#print(df.boxplot(column='frete'))\n",
    "print(f'Média Valor de Frete: R$ {round(df.frete.mean(), 2)}')"
   ]
  },
  {
   "cell_type": "markdown",
   "id": "49edac11-dd30-4e42-ba9c-5333bddbe831",
   "metadata": {},
   "source": [
    "##### ANALISE DOS DADOS OUTLIERS:\n",
    "###### Aplicar um filtro para mostrar os fretes que são muito discrepantes, assim, podemos confirmar e verificar um padrão (ter taxa de difilcudade ou valor de NF alto)."
   ]
  },
  {
   "cell_type": "code",
   "execution_count": 10,
   "id": "e8a33b66-072c-4245-9986-a53e04c4b29b",
   "metadata": {},
   "outputs": [
    {
     "data": {
      "text/html": [
       "<div>\n",
       "<style scoped>\n",
       "    .dataframe tbody tr th:only-of-type {\n",
       "        vertical-align: middle;\n",
       "    }\n",
       "\n",
       "    .dataframe tbody tr th {\n",
       "        vertical-align: top;\n",
       "    }\n",
       "\n",
       "    .dataframe thead th {\n",
       "        text-align: right;\n",
       "    }\n",
       "</style>\n",
       "<table border=\"1\" class=\"dataframe\">\n",
       "  <thead>\n",
       "    <tr style=\"text-align: right;\">\n",
       "      <th></th>\n",
       "      <th>nf</th>\n",
       "      <th>cidade</th>\n",
       "      <th>uf</th>\n",
       "      <th>valor</th>\n",
       "      <th>frete</th>\n",
       "      <th>motorista</th>\n",
       "      <th>p_frete</th>\n",
       "      <th>regiao</th>\n",
       "      <th>faixa</th>\n",
       "    </tr>\n",
       "  </thead>\n",
       "  <tbody>\n",
       "    <tr>\n",
       "      <th>20</th>\n",
       "      <td>4206</td>\n",
       "      <td>ITAGUAI</td>\n",
       "      <td>RJ</td>\n",
       "      <td>528.39</td>\n",
       "      <td>361.4512</td>\n",
       "      <td>TR_2</td>\n",
       "      <td>68.4</td>\n",
       "      <td>I</td>\n",
       "      <td>3</td>\n",
       "    </tr>\n",
       "    <tr>\n",
       "      <th>21</th>\n",
       "      <td>4209</td>\n",
       "      <td>ITAGUAI</td>\n",
       "      <td>RJ</td>\n",
       "      <td>575.86</td>\n",
       "      <td>361.6096</td>\n",
       "      <td>TR_2</td>\n",
       "      <td>62.8</td>\n",
       "      <td>I</td>\n",
       "      <td>3</td>\n",
       "    </tr>\n",
       "    <tr>\n",
       "      <th>23</th>\n",
       "      <td>4212</td>\n",
       "      <td>SEROPEDICA</td>\n",
       "      <td>RJ</td>\n",
       "      <td>511.31</td>\n",
       "      <td>361.3896</td>\n",
       "      <td>TR_2</td>\n",
       "      <td>70.7</td>\n",
       "      <td>RM</td>\n",
       "      <td>3</td>\n",
       "    </tr>\n",
       "    <tr>\n",
       "      <th>27</th>\n",
       "      <td>4454</td>\n",
       "      <td>VOLTA REDONDA</td>\n",
       "      <td>RJ</td>\n",
       "      <td>10694.31</td>\n",
       "      <td>344.5904</td>\n",
       "      <td>TR_1</td>\n",
       "      <td>3.2</td>\n",
       "      <td>I</td>\n",
       "      <td>4</td>\n",
       "    </tr>\n",
       "    <tr>\n",
       "      <th>28</th>\n",
       "      <td>4135</td>\n",
       "      <td>VOLTA REDONDA</td>\n",
       "      <td>RJ</td>\n",
       "      <td>1208.88</td>\n",
       "      <td>363.9416</td>\n",
       "      <td>TR_2</td>\n",
       "      <td>30.1</td>\n",
       "      <td>I</td>\n",
       "      <td>4</td>\n",
       "    </tr>\n",
       "    <tr>\n",
       "      <th>64</th>\n",
       "      <td>4138</td>\n",
       "      <td>TERESOPOLIS</td>\n",
       "      <td>RJ</td>\n",
       "      <td>1353.77</td>\n",
       "      <td>364.6720</td>\n",
       "      <td>TR_2</td>\n",
       "      <td>26.9</td>\n",
       "      <td>I</td>\n",
       "      <td>4</td>\n",
       "    </tr>\n",
       "    <tr>\n",
       "      <th>70</th>\n",
       "      <td>4141</td>\n",
       "      <td>TERESOPOLIS</td>\n",
       "      <td>RJ</td>\n",
       "      <td>1284.31</td>\n",
       "      <td>364.3288</td>\n",
       "      <td>TR_2</td>\n",
       "      <td>28.4</td>\n",
       "      <td>I</td>\n",
       "      <td>4</td>\n",
       "    </tr>\n",
       "    <tr>\n",
       "      <th>81</th>\n",
       "      <td>4562</td>\n",
       "      <td>BARRA DO PIRAI</td>\n",
       "      <td>RJ</td>\n",
       "      <td>3730.17</td>\n",
       "      <td>386.1792</td>\n",
       "      <td>TR_2</td>\n",
       "      <td>10.4</td>\n",
       "      <td>I</td>\n",
       "      <td>4</td>\n",
       "    </tr>\n",
       "    <tr>\n",
       "      <th>99</th>\n",
       "      <td>4499</td>\n",
       "      <td>SERRA</td>\n",
       "      <td>RJ</td>\n",
       "      <td>6719.30</td>\n",
       "      <td>316.7296</td>\n",
       "      <td>TR_1</td>\n",
       "      <td>4.7</td>\n",
       "      <td>I</td>\n",
       "      <td>4</td>\n",
       "    </tr>\n",
       "    <tr>\n",
       "      <th>108</th>\n",
       "      <td>4559</td>\n",
       "      <td>SAO JOAO DE MERITI</td>\n",
       "      <td>RJ</td>\n",
       "      <td>8424.04</td>\n",
       "      <td>396.4752</td>\n",
       "      <td>TR_2</td>\n",
       "      <td>4.7</td>\n",
       "      <td>RM</td>\n",
       "      <td>4</td>\n",
       "    </tr>\n",
       "    <tr>\n",
       "      <th>157</th>\n",
       "      <td>4127</td>\n",
       "      <td>TERESOPOLIS</td>\n",
       "      <td>RJ</td>\n",
       "      <td>705.50</td>\n",
       "      <td>367.0040</td>\n",
       "      <td>TR_2</td>\n",
       "      <td>52.0</td>\n",
       "      <td>I</td>\n",
       "      <td>3</td>\n",
       "    </tr>\n",
       "    <tr>\n",
       "      <th>161</th>\n",
       "      <td>4214</td>\n",
       "      <td>ITAGUAI</td>\n",
       "      <td>RJ</td>\n",
       "      <td>650.48</td>\n",
       "      <td>361.8824</td>\n",
       "      <td>TR_2</td>\n",
       "      <td>55.6</td>\n",
       "      <td>I</td>\n",
       "      <td>3</td>\n",
       "    </tr>\n",
       "    <tr>\n",
       "      <th>171</th>\n",
       "      <td>4142</td>\n",
       "      <td>SAO GONCALO</td>\n",
       "      <td>RJ</td>\n",
       "      <td>915.66</td>\n",
       "      <td>355.7048</td>\n",
       "      <td>TR_2</td>\n",
       "      <td>38.8</td>\n",
       "      <td>RM</td>\n",
       "      <td>3</td>\n",
       "    </tr>\n",
       "  </tbody>\n",
       "</table>\n",
       "</div>"
      ],
      "text/plain": [
       "       nf              cidade  uf     valor     frete motorista  p_frete  \\\n",
       "20   4206             ITAGUAI  RJ    528.39  361.4512      TR_2     68.4   \n",
       "21   4209             ITAGUAI  RJ    575.86  361.6096      TR_2     62.8   \n",
       "23   4212          SEROPEDICA  RJ    511.31  361.3896      TR_2     70.7   \n",
       "27   4454       VOLTA REDONDA  RJ  10694.31  344.5904      TR_1      3.2   \n",
       "28   4135       VOLTA REDONDA  RJ   1208.88  363.9416      TR_2     30.1   \n",
       "64   4138         TERESOPOLIS  RJ   1353.77  364.6720      TR_2     26.9   \n",
       "70   4141         TERESOPOLIS  RJ   1284.31  364.3288      TR_2     28.4   \n",
       "81   4562      BARRA DO PIRAI  RJ   3730.17  386.1792      TR_2     10.4   \n",
       "99   4499               SERRA  RJ   6719.30  316.7296      TR_1      4.7   \n",
       "108  4559  SAO JOAO DE MERITI  RJ   8424.04  396.4752      TR_2      4.7   \n",
       "157  4127         TERESOPOLIS  RJ    705.50  367.0040      TR_2     52.0   \n",
       "161  4214             ITAGUAI  RJ    650.48  361.8824      TR_2     55.6   \n",
       "171  4142         SAO GONCALO  RJ    915.66  355.7048      TR_2     38.8   \n",
       "\n",
       "    regiao  faixa  \n",
       "20       I      3  \n",
       "21       I      3  \n",
       "23      RM      3  \n",
       "27       I      4  \n",
       "28       I      4  \n",
       "64       I      4  \n",
       "70       I      4  \n",
       "81       I      4  \n",
       "99       I      4  \n",
       "108     RM      4  \n",
       "157      I      3  \n",
       "161      I      3  \n",
       "171     RM      3  "
      ]
     },
     "execution_count": 10,
     "metadata": {},
     "output_type": "execute_result"
    }
   ],
   "source": [
    "df[df.frete > 250]"
   ]
  },
  {
   "cell_type": "markdown",
   "id": "884c14c9-4ee8-4019-9795-2c26650bfc4b",
   "metadata": {},
   "source": [
    "##### ANALISE DO VALOR DE PERCENTUAL DE FRETE:"
   ]
  },
  {
   "cell_type": "code",
   "execution_count": 11,
   "id": "0efdb041-9fe8-4429-9de4-e8dfa92939d7",
   "metadata": {},
   "outputs": [
    {
     "name": "stdout",
     "output_type": "stream",
     "text": [
      "AxesSubplot(0.125,0.11;0.775x0.77)\n",
      "Média do % de Frete: 9.12\n"
     ]
    },
    {
     "data": {
      "image/png": "[encoded data removed]",
      "text/plain": [
       "<Figure size 640x480 with 1 Axes>"
      ]
     },
     "metadata": {},
     "output_type": "display_data"
    }
   ],
   "source": [
    "print(df.boxplot(column='p_frete'))\n",
    "print(f'Média do % de Frete: {round(df.p_frete.mean(), 2)}')"
   ]
  },
  {
   "cell_type": "markdown",
   "id": "c79e0cfe-4ddd-4a37-8f6a-d6bd6c9c0041",
   "metadata": {},
   "source": [
    "###### A análise por % de frete sobre valor da NF mostra valores menos discrepante.\n",
    "###### Ao aplicar o filtro podemos observar o mesmo padrão de cidades:"
   ]
  },
  {
   "cell_type": "code",
   "execution_count": 12,
   "id": "69cc0d34-4147-40dc-a791-0ac0cfd8e662",
   "metadata": {},
   "outputs": [
    {
     "data": {
      "text/html": [
       "<div>\n",
       "<style scoped>\n",
       "    .dataframe tbody tr th:only-of-type {\n",
       "        vertical-align: middle;\n",
       "    }\n",
       "\n",
       "    .dataframe tbody tr th {\n",
       "        vertical-align: top;\n",
       "    }\n",
       "\n",
       "    .dataframe thead th {\n",
       "        text-align: right;\n",
       "    }\n",
       "</style>\n",
       "<table border=\"1\" class=\"dataframe\">\n",
       "  <thead>\n",
       "    <tr style=\"text-align: right;\">\n",
       "      <th></th>\n",
       "      <th>nf</th>\n",
       "      <th>cidade</th>\n",
       "      <th>uf</th>\n",
       "      <th>valor</th>\n",
       "      <th>frete</th>\n",
       "      <th>motorista</th>\n",
       "      <th>p_frete</th>\n",
       "      <th>regiao</th>\n",
       "      <th>faixa</th>\n",
       "    </tr>\n",
       "  </thead>\n",
       "  <tbody>\n",
       "    <tr>\n",
       "      <th>20</th>\n",
       "      <td>4206</td>\n",
       "      <td>ITAGUAI</td>\n",
       "      <td>RJ</td>\n",
       "      <td>528.39</td>\n",
       "      <td>361.4512</td>\n",
       "      <td>TR_2</td>\n",
       "      <td>68.4</td>\n",
       "      <td>I</td>\n",
       "      <td>3</td>\n",
       "    </tr>\n",
       "    <tr>\n",
       "      <th>21</th>\n",
       "      <td>4209</td>\n",
       "      <td>ITAGUAI</td>\n",
       "      <td>RJ</td>\n",
       "      <td>575.86</td>\n",
       "      <td>361.6096</td>\n",
       "      <td>TR_2</td>\n",
       "      <td>62.8</td>\n",
       "      <td>I</td>\n",
       "      <td>3</td>\n",
       "    </tr>\n",
       "    <tr>\n",
       "      <th>23</th>\n",
       "      <td>4212</td>\n",
       "      <td>SEROPEDICA</td>\n",
       "      <td>RJ</td>\n",
       "      <td>511.31</td>\n",
       "      <td>361.3896</td>\n",
       "      <td>TR_2</td>\n",
       "      <td>70.7</td>\n",
       "      <td>RM</td>\n",
       "      <td>3</td>\n",
       "    </tr>\n",
       "    <tr>\n",
       "      <th>28</th>\n",
       "      <td>4135</td>\n",
       "      <td>VOLTA REDONDA</td>\n",
       "      <td>RJ</td>\n",
       "      <td>1208.88</td>\n",
       "      <td>363.9416</td>\n",
       "      <td>TR_2</td>\n",
       "      <td>30.1</td>\n",
       "      <td>I</td>\n",
       "      <td>4</td>\n",
       "    </tr>\n",
       "    <tr>\n",
       "      <th>64</th>\n",
       "      <td>4138</td>\n",
       "      <td>TERESOPOLIS</td>\n",
       "      <td>RJ</td>\n",
       "      <td>1353.77</td>\n",
       "      <td>364.6720</td>\n",
       "      <td>TR_2</td>\n",
       "      <td>26.9</td>\n",
       "      <td>I</td>\n",
       "      <td>4</td>\n",
       "    </tr>\n",
       "    <tr>\n",
       "      <th>70</th>\n",
       "      <td>4141</td>\n",
       "      <td>TERESOPOLIS</td>\n",
       "      <td>RJ</td>\n",
       "      <td>1284.31</td>\n",
       "      <td>364.3288</td>\n",
       "      <td>TR_2</td>\n",
       "      <td>28.4</td>\n",
       "      <td>I</td>\n",
       "      <td>4</td>\n",
       "    </tr>\n",
       "    <tr>\n",
       "      <th>157</th>\n",
       "      <td>4127</td>\n",
       "      <td>TERESOPOLIS</td>\n",
       "      <td>RJ</td>\n",
       "      <td>705.50</td>\n",
       "      <td>367.0040</td>\n",
       "      <td>TR_2</td>\n",
       "      <td>52.0</td>\n",
       "      <td>I</td>\n",
       "      <td>3</td>\n",
       "    </tr>\n",
       "    <tr>\n",
       "      <th>161</th>\n",
       "      <td>4214</td>\n",
       "      <td>ITAGUAI</td>\n",
       "      <td>RJ</td>\n",
       "      <td>650.48</td>\n",
       "      <td>361.8824</td>\n",
       "      <td>TR_2</td>\n",
       "      <td>55.6</td>\n",
       "      <td>I</td>\n",
       "      <td>3</td>\n",
       "    </tr>\n",
       "    <tr>\n",
       "      <th>171</th>\n",
       "      <td>4142</td>\n",
       "      <td>SAO GONCALO</td>\n",
       "      <td>RJ</td>\n",
       "      <td>915.66</td>\n",
       "      <td>355.7048</td>\n",
       "      <td>TR_2</td>\n",
       "      <td>38.8</td>\n",
       "      <td>RM</td>\n",
       "      <td>3</td>\n",
       "    </tr>\n",
       "  </tbody>\n",
       "</table>\n",
       "</div>"
      ],
      "text/plain": [
       "       nf         cidade  uf    valor     frete motorista  p_frete regiao  \\\n",
       "20   4206        ITAGUAI  RJ   528.39  361.4512      TR_2     68.4      I   \n",
       "21   4209        ITAGUAI  RJ   575.86  361.6096      TR_2     62.8      I   \n",
       "23   4212     SEROPEDICA  RJ   511.31  361.3896      TR_2     70.7     RM   \n",
       "28   4135  VOLTA REDONDA  RJ  1208.88  363.9416      TR_2     30.1      I   \n",
       "64   4138    TERESOPOLIS  RJ  1353.77  364.6720      TR_2     26.9      I   \n",
       "70   4141    TERESOPOLIS  RJ  1284.31  364.3288      TR_2     28.4      I   \n",
       "157  4127    TERESOPOLIS  RJ   705.50  367.0040      TR_2     52.0      I   \n",
       "161  4214        ITAGUAI  RJ   650.48  361.8824      TR_2     55.6      I   \n",
       "171  4142    SAO GONCALO  RJ   915.66  355.7048      TR_2     38.8     RM   \n",
       "\n",
       "     faixa  \n",
       "20       3  \n",
       "21       3  \n",
       "23       3  \n",
       "28       4  \n",
       "64       4  \n",
       "70       4  \n",
       "157      3  \n",
       "161      3  \n",
       "171      3  "
      ]
     },
     "execution_count": 12,
     "metadata": {},
     "output_type": "execute_result"
    }
   ],
   "source": [
    "df[df.p_frete > 20]"
   ]
  },
  {
   "cell_type": "markdown",
   "id": "4b102a68-a2d0-4658-b818-8ce64fa483f6",
   "metadata": {},
   "source": [
    "#\n",
    "## DADOS DUPLICADOS:\n",
    "##### Na análise, a unica coluna que não pode ter dados duplicados é a coluna NF:"
   ]
  },
  {
   "cell_type": "code",
   "execution_count": 13,
   "id": "1280e158-7af8-4098-be1c-6a63169a1201",
   "metadata": {},
   "outputs": [
    {
     "data": {
      "text/plain": [
       "True"
      ]
     },
     "execution_count": 13,
     "metadata": {},
     "output_type": "execute_result"
    }
   ],
   "source": [
    "~df.nf.duplicated().all()\n",
    "#retorna TRUE, nenhuma dado de NF duplicado"
   ]
  },
  {
   "cell_type": "markdown",
   "id": "9f742cc3-8748-47e1-bafb-7f58d0deac90",
   "metadata": {},
   "source": [
    "#\n",
    "## ANALISE"
   ]
  },
  {
   "cell_type": "markdown",
   "id": "1464def5-c471-4e91-801d-1d72fb8247cc",
   "metadata": {
    "tags": []
   },
   "source": [
    "### GERAL:"
   ]
  },
  {
   "cell_type": "markdown",
   "id": "fdbdc8fc-22dd-4dd8-88c2-8c81f8473925",
   "metadata": {},
   "source": [
    "##### ESTADO:"
   ]
  },
  {
   "cell_type": "code",
   "execution_count": 14,
   "id": "c6b2b1d0-5549-4278-8779-940852b03f4a",
   "metadata": {},
   "outputs": [
    {
     "name": "stdout",
     "output_type": "stream",
     "text": [
      "TOTAL DE FATURAMENTO R$: 269515.11\n",
      "TOTAL DE FRETE R$: 18079.86\n",
      "PERCENTUAL DE FRETE SOBRE FATURAMENTO: 6.71%\n",
      "\n"
     ]
    }
   ],
   "source": [
    "print(f'TOTAL DE FATURAMENTO R$: {df.valor.sum().round(2)}')\n",
    "print(f'TOTAL DE FRETE R$: {df.frete.sum().round(2)}')\n",
    "print(f'PERCENTUAL DE FRETE SOBRE FATURAMENTO: {((df.frete.sum() / df.valor.sum())*100).round(2)}%\\n') "
   ]
  },
  {
   "cell_type": "markdown",
   "id": "772c31ef-c553-4da7-90d2-a48dc419cfff",
   "metadata": {},
   "source": [
    "##### TRANSPORTADORA 1:"
   ]
  },
  {
   "cell_type": "code",
   "execution_count": 15,
   "id": "18d71c54-0f4d-4f0c-971e-9ea9f781d1fb",
   "metadata": {},
   "outputs": [
    {
     "name": "stdout",
     "output_type": "stream",
     "text": [
      "TOTAL DE FATURAMENTO R$: 106447.84\n",
      "TOTAL DE FRETE R$: 5741.85\n",
      "PERCENTUAL DE FRETE SOBRE FATURAMENTO: 5.39%\n",
      "\n"
     ]
    }
   ],
   "source": [
    "#Criar DataFrame para Transportadora 1\n",
    "df_t1 = df.loc[df.motorista == \"TR_1\"]\n",
    "print(f'TOTAL DE FATURAMENTO R$: {df_t1.valor.sum().round(2)}')\n",
    "print(f'TOTAL DE FRETE R$: {df_t1.frete.sum().round(2)}')\n",
    "print(f'PERCENTUAL DE FRETE SOBRE FATURAMENTO: {((df_t1.frete.sum() / df_t1.valor.sum())*100).round(2)}%\\n') "
   ]
  },
  {
   "cell_type": "markdown",
   "id": "4fdb91c7-6699-413b-93f5-55a03fd33648",
   "metadata": {},
   "source": [
    "##### TRANSPORTADORA 2:"
   ]
  },
  {
   "cell_type": "code",
   "execution_count": 16,
   "id": "3068a6be-d73e-4b1e-8d57-1452a6bfd861",
   "metadata": {},
   "outputs": [
    {
     "name": "stdout",
     "output_type": "stream",
     "text": [
      "TOTAL DE FATURAMENTO R$: 163067.27\n",
      "TOTAL DE FRETE R$: 12338.01\n",
      "PERCENTUAL DE FRETE SOBRE FATURAMENTO: 7.57%\n",
      "\n"
     ]
    }
   ],
   "source": [
    "#Criar DataFrame para Transportadora 2\n",
    "df_t2 = df.loc[df.motorista == \"TR_2\"]\n",
    "print(f'TOTAL DE FATURAMENTO R$: {df_t2.valor.sum().round(2)}')\n",
    "print(f'TOTAL DE FRETE R$: {df_t2.frete.sum().round(2)}')\n",
    "print(f'PERCENTUAL DE FRETE SOBRE FATURAMENTO: {((df_t2.frete.sum() / df_t2.valor.sum())*100).round(2)}%\\n') "
   ]
  },
  {
   "cell_type": "code",
   "execution_count": 17,
   "id": "cfcc0d64",
   "metadata": {},
   "outputs": [
    {
     "data": {
      "image/png": "[encoded data removed]",
      "text/plain": [
       "<Figure size 640x480 with 1 Axes>"
      ]
     },
     "metadata": {},
     "output_type": "display_data"
    }
   ],
   "source": [
    "dados = [((df.frete.sum() / df.valor.sum())*100).round(2),\n",
    "         ((df_t1.frete.sum() / df_t1.valor.sum())*100).round(2),\n",
    "         ((df_t2.frete.sum() / df_t2.valor.sum())*100).round(2)]\n",
    "legenda = ['GERAL','TRANSP.1','TRANSP.2']\n",
    "\n",
    "x = np.arange(len(legenda))\n",
    "largura = 0.35\n",
    "\n",
    "cores = ['#FFC107', '#2196F3', '#FF5722'] # lista de cores das barras\n",
    "\n",
    "plt.bar(x, dados, largura, color=cores)\n",
    "\n",
    "plt.xticks(x, legenda)\n",
    "plt.ylabel('%')\n",
    "\n",
    "plt.title('% FRETE POR FATURAMENTO')\n",
    "\n",
    "plt.show()"
   ]
  },
  {
   "cell_type": "markdown",
   "id": "200419f3-2e55-4cbb-bfef-3ca765462982",
   "metadata": {
    "tags": []
   },
   "source": [
    "### POR REGIÃO:\n",
    "##### ESTADO:"
   ]
  },
  {
   "cell_type": "code",
   "execution_count": 18,
   "id": "0f6e3d1d-c52f-4273-8564-b725ef4fe0c1",
   "metadata": {},
   "outputs": [
    {
     "name": "stdout",
     "output_type": "stream",
     "text": [
      "CAPITAL:\n",
      "(% de Notas): 34.0%\n",
      "(%): 5.35%\n",
      "\n",
      "REGIÃO METROPOLITANA:\n",
      "(% de Notas): 21.0%\n",
      "(%): 7.04%\n",
      "\n",
      "INTERIOR:\n",
      "(% de Notas): 45.0%\n",
      "(%): 7.49%\n",
      "\n"
     ]
    }
   ],
   "source": [
    "total_por_reg = df.groupby('regiao')[['valor', 'frete']].sum()\n",
    "total_por_reg['frete_reg'] = (total_por_reg['frete'] / total_por_reg['valor'] * 100).round(2)\n",
    "\n",
    "print(\"CAPITAL:\")\n",
    "print(f\"(% de Notas): {((df[df.regiao == 'C'].count().iloc[0] / df.regiao.count()) * 100).round()}%\")\n",
    "print(f\"(%): {total_por_reg.loc['C']['frete_reg']:.2f}%\\n\")\n",
    "print(\"REGIÃO METROPOLITANA:\")\n",
    "print(f\"(% de Notas): {((df[df.regiao == 'RM'].count().iloc[0] / df.regiao.count()) * 100).round()}%\")\n",
    "print(f\"(%): {total_por_reg.loc['RM']['frete_reg']:.2f}%\\n\")\n",
    "print(\"INTERIOR:\")\n",
    "print(f\"(% de Notas): {((df[df.regiao == 'I'].count().iloc[0] / df.regiao.count()) * 100).round()}%\")\n",
    "print(f\"(%): {total_por_reg.loc['I']['frete_reg']:.2f}%\\n\")"
   ]
  },
  {
   "cell_type": "markdown",
   "id": "811506bc-cdf3-4d5e-8b16-5e476cd41ec9",
   "metadata": {},
   "source": [
    "##### TRANSPORTADORA 1:"
   ]
  },
  {
   "cell_type": "code",
   "execution_count": 19,
   "id": "1fda1151-793f-496d-83b0-4c8cd4751d96",
   "metadata": {},
   "outputs": [
    {
     "name": "stdout",
     "output_type": "stream",
     "text": [
      "CAPITAL:\n",
      "(% de Notas): 24.0%\n",
      "(%): 6.04%\n",
      "\n",
      "REGIÃO METROPOLITANA:\n",
      "(% de Notas): 21.0%\n",
      "(%): 6.13%\n",
      "\n",
      "INTERIOR:\n",
      "(% de Notas): 55.0%\n",
      "(%): 5.01%\n",
      "\n"
     ]
    }
   ],
   "source": [
    "total_por_reg1 = df_t1.groupby('regiao')[['valor', 'frete']].sum()\n",
    "total_por_reg1['frete_reg'] = (total_por_reg1['frete'] / total_por_reg1['valor'] * 100).round(2)\n",
    "\n",
    "print(\"CAPITAL:\")\n",
    "print(f\"(% de Notas): {((df_t1[df_t1.regiao == 'C'].count().iloc[0] / df_t1.regiao.count()) * 100).round()}%\")\n",
    "print(f\"(%): {total_por_reg1.loc['C']['frete_reg']:.2f}%\\n\")\n",
    "print(\"REGIÃO METROPOLITANA:\")\n",
    "print(f\"(% de Notas): {((df_t1[df_t1.regiao == 'RM'].count().iloc[0] / df_t1.regiao.count()) * 100).round()}%\")\n",
    "print(f\"(%): {total_por_reg1.loc['RM']['frete_reg']:.2f}%\\n\")\n",
    "print(\"INTERIOR:\")\n",
    "print(f\"(% de Notas): {((df_t1[df_t1.regiao == 'I'].count().iloc[0] / df_t1.regiao.count()) * 100).round()}%\")\n",
    "print(f\"(%): {total_por_reg1.loc['I']['frete_reg']:.2f}%\\n\")"
   ]
  },
  {
   "cell_type": "markdown",
   "id": "0205441d-365d-46ee-a0d7-ab7297cbfb0c",
   "metadata": {},
   "source": [
    "##### TRANSPORTADORA 2:"
   ]
  },
  {
   "cell_type": "code",
   "execution_count": 20,
   "id": "5b44cd0f-dcc0-47dc-9b12-e629aaf83e91",
   "metadata": {
    "scrolled": false
   },
   "outputs": [
    {
     "name": "stdout",
     "output_type": "stream",
     "text": [
      "CAPITAL:\n",
      "(% de Notas): 40.0%\n",
      "(%): 5.14%\n",
      "\n",
      "REGIÃO METROPOLITANA:\n",
      "(% de Notas): 21.0%\n",
      "(%): 7.49%\n",
      "\n",
      "INTERIOR:\n",
      "(% de Notas): 39.0%\n",
      "(%): 10.37%\n",
      "\n"
     ]
    }
   ],
   "source": [
    "total_por_reg2 = df_t2.groupby('regiao')[['valor', 'frete']].sum()\n",
    "total_por_reg2['frete_reg'] = (total_por_reg2['frete'] / total_por_reg2['valor'] * 100).round(2)\n",
    "\n",
    "print(\"CAPITAL:\")\n",
    "print(f\"(% de Notas): {((df_t2[df_t2.regiao == 'C'].count().iloc[0] / df_t2.regiao.count()) * 100).round()}%\")\n",
    "print(f\"(%): {total_por_reg2.loc['C']['frete_reg']:.2f}%\\n\")\n",
    "print(\"REGIÃO METROPOLITANA:\")\n",
    "print(f\"(% de Notas): {((df_t2[df_t2.regiao == 'RM'].count().iloc[0] / df_t2.regiao.count()) * 100).round()}%\")\n",
    "print(f\"(%): {total_por_reg2.loc['RM']['frete_reg']:.2f}%\\n\")\n",
    "print(\"INTERIOR:\")\n",
    "print(f\"(% de Notas): {((df_t2[df_t2.regiao == 'I'].count().iloc[0] / df_t2.regiao.count()) * 100).round()}%\")\n",
    "print(f\"(%): {total_por_reg2.loc['I']['frete_reg']:.2f}%\\n\")"
   ]
  },
  {
   "cell_type": "markdown",
   "id": "ba31bde2-e9ba-416d-b5d4-c4bf6c03aa71",
   "metadata": {
    "tags": []
   },
   "source": [
    "### POR FAIXA DE PREÇO:\n",
    "##### ESTADO:"
   ]
  },
  {
   "cell_type": "code",
   "execution_count": 21,
   "id": "ca996c35-442d-4fc8-b1b7-43e539f1fbf2",
   "metadata": {},
   "outputs": [
    {
     "name": "stdout",
     "output_type": "stream",
     "text": [
      "FAIXA 2 (DE R$ 200 ATÉ R$ 500):\n",
      "(% de NFs): 12.0%\n",
      "(%): 13.47%\n",
      "\n",
      "FAIXA 3 (DE R$ 500 ATÉ R$ 1000):\n",
      "(% de NFs): 49.0%\n",
      "(%): 10.45%\n",
      "\n",
      "FAIXA 4 (ACIMA DE R$ 1000):\n",
      "(% de NFs): 39.0%\n",
      "(%): 4.60%\n",
      "\n"
     ]
    }
   ],
   "source": [
    "total_por_faixa = df.groupby('faixa')[['valor', 'frete']].sum()\n",
    "total_por_faixa['percentual_frete'] = (total_por_faixa['frete'] / total_por_faixa['valor'] * 100).round(2)\n",
    "\n",
    "#print(f\"FAIXA 1 (ATÉ R$ 200):\")\n",
    "#print(f\"(%): {total_por_faixa.loc[1]['percentual_frete']:.2f}%\\n\")\n",
    "print(f\"FAIXA 2 (DE R$ 200 ATÉ R$ 500):\")\n",
    "print(f\"(% de NFs): {((df[df.faixa == 2].count().iloc[0] / df.faixa.count()) * 100).round()}%\")\n",
    "print(f\"(%): {total_por_faixa.loc[2]['percentual_frete']:.2f}%\\n\")\n",
    "print(f\"FAIXA 3 (DE R$ 500 ATÉ R$ 1000):\")\n",
    "print(f\"(% de NFs): {((df[df.faixa == 3].count().iloc[0] / df.faixa.count()) * 100).round()}%\")\n",
    "print(f\"(%): {total_por_faixa.loc[3]['percentual_frete']:.2f}%\\n\")\n",
    "print(f\"FAIXA 4 (ACIMA DE R$ 1000):\")\n",
    "print(f\"(% de NFs): {((df[df.faixa == 4].count().iloc[0] / df.faixa.count()) * 100).round()}%\")\n",
    "print(f\"(%): {total_por_faixa.loc[4]['percentual_frete']:.2f}%\\n\")"
   ]
  },
  {
   "cell_type": "markdown",
   "id": "1768462d-afb8-4508-9654-f50b0d3bb930",
   "metadata": {},
   "source": [
    "##### TRANSPORTADORA 1:"
   ]
  },
  {
   "cell_type": "code",
   "execution_count": 22,
   "id": "888335ff-fd58-4f60-a2f4-bd72a662ffd0",
   "metadata": {},
   "outputs": [
    {
     "name": "stdout",
     "output_type": "stream",
     "text": [
      "FAIXA 2 (DE R$ 200 ATÉ R$ 500):\n",
      "(% de NFs): 8.0%\n",
      "(%): 11.28%\n",
      "\n",
      "FAIXA 3 (DE R$ 500 ATÉ R$ 1000):\n",
      "(% de NFs): 52.0%\n",
      "(%): 7.25%\n",
      "\n",
      "FAIXA 4 (ACIMA DE R$ 1000):\n",
      "(% de NFs): 40.0%\n",
      "(%): 4.24%\n",
      "\n"
     ]
    }
   ],
   "source": [
    "total_por_faixa1 = df_t1.groupby('faixa')[['valor', 'frete']].sum()\n",
    "total_por_faixa1['percentual_frete'] = (total_por_faixa1['frete'] / total_por_faixa1['valor'] * 100).round(2)\n",
    "\n",
    "#print(f\"FAIXA 1 (ATÉ R$ 200):\")\n",
    "#print(f\"(%): {total_por_faixa.loc[1]['percentual_frete']:.2f}%\\n\")\n",
    "print(f\"FAIXA 2 (DE R$ 200 ATÉ R$ 500):\")\n",
    "print(f\"(% de NFs): {((df_t1[df_t1.faixa == 2].count().iloc[0] / df_t1.faixa.count()) * 100).round()}%\")\n",
    "print(f\"(%): {total_por_faixa1.loc[2]['percentual_frete']:.2f}%\\n\")\n",
    "print(f\"FAIXA 3 (DE R$ 500 ATÉ R$ 1000):\")\n",
    "print(f\"(% de NFs): {((df_t1[df_t1.faixa == 3].count().iloc[0] / df_t1.faixa.count()) * 100).round()}%\")\n",
    "print(f\"(%): {total_por_faixa1.loc[3]['percentual_frete']:.2f}%\\n\")\n",
    "print(f\"FAIXA 4 (ACIMA DE R$ 1000):\")\n",
    "print(f\"(% de NFs): {((df_t1[df_t1.faixa == 4].count().iloc[0] / df_t1.faixa.count()) * 100).round()}%\")\n",
    "print(f\"(%): {total_por_faixa1.loc[4]['percentual_frete']:.2f}%\\n\")"
   ]
  },
  {
   "cell_type": "markdown",
   "id": "9c586649-18f3-425c-98b1-f0cb4d6b1f97",
   "metadata": {},
   "source": [
    "##### TRANSPORTADORA 2:"
   ]
  },
  {
   "cell_type": "code",
   "execution_count": 23,
   "id": "ed3457ec-cff1-482e-9c9f-0516aca870c2",
   "metadata": {},
   "outputs": [
    {
     "name": "stdout",
     "output_type": "stream",
     "text": [
      "FAIXA 2 (DE R$ 200 ATÉ R$ 500):\n",
      "(% de NFs): 15.0%\n",
      "(%): 14.22%\n",
      "\n",
      "FAIXA 3 (DE R$ 500 ATÉ R$ 1000):\n",
      "(% de NFs): 47.0%\n",
      "(%): 12.83%\n",
      "\n",
      "FAIXA 4 (ACIMA DE R$ 1000):\n",
      "(% de NFs): 38.0%\n",
      "(%): 4.84%\n",
      "\n"
     ]
    }
   ],
   "source": [
    "total_por_faixa2 = df_t2.groupby('faixa')[['valor', 'frete']].sum()\n",
    "total_por_faixa2['percentual_frete'] = (total_por_faixa2['frete'] / total_por_faixa2['valor'] * 100).round(2)\n",
    "\n",
    "#print(f\"FAIXA 1 (ATÉ R$ 200):\")\n",
    "#print(f\"(%): {total_por_faixa.loc[1]['percentual_frete']:.2f}%\\n\")\n",
    "print(f\"FAIXA 2 (DE R$ 200 ATÉ R$ 500):\")\n",
    "print(f\"(% de NFs): {((df_t2[df_t2.faixa == 2].count().iloc[0] / df_t2.faixa.count()) * 100).round()}%\")\n",
    "print(f\"(%): {total_por_faixa2.loc[2]['percentual_frete']:.2f}%\\n\")\n",
    "print(f\"FAIXA 3 (DE R$ 500 ATÉ R$ 1000):\")\n",
    "print(f\"(% de NFs): {((df_t2[df_t2.faixa == 3].count().iloc[0] / df_t2.faixa.count()) * 100).round()}%\")\n",
    "print(f\"(%): {total_por_faixa2.loc[3]['percentual_frete']:.2f}%\\n\")\n",
    "print(f\"FAIXA 4 (ACIMA DE R$ 1000):\")\n",
    "print(f\"(% de NFs): {((df_t2[df_t2.faixa == 4].count().iloc[0] / df_t2.faixa.count()) * 100).round()}%\")\n",
    "print(f\"(%): {total_por_faixa2.loc[4]['percentual_frete']:.2f}%\\n\")"
   ]
  }
 ],
 "metadata": {
  "kernelspec": {
   "display_name": "Python 3 (ipykernel)",
   "language": "python",
   "name": "python3"
  },
  "language_info": {
   "codemirror_mode": {
    "name": "ipython",
    "version": 3
   },
   "file_extension": ".py",
   "mimetype": "text/x-python",
   "name": "python",
   "nbconvert_exporter": "python",
   "pygments_lexer": "ipython3",
   "version": "3.9.13"
  }
 },
 "nbformat": 4,
 "nbformat_minor": 5
}
